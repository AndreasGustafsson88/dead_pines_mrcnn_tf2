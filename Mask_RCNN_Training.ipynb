{
 "cells": [
  {
   "cell_type": "markdown",
   "metadata": {
    "id": "gWb2MnrH7NRD"
   },
   "source": [
    "* Set up correct env by running conda env create -f environment.yml"
   ]
  },
  {
   "cell_type": "markdown",
   "metadata": {
    "id": "swGVAzoI748Y"
   },
   "source": [
    "### **Import Code**"
   ]
  },
  {
   "cell_type": "code",
   "execution_count": 1,
   "metadata": {
    "executionInfo": {
     "elapsed": 421,
     "status": "ok",
     "timestamp": 1634721682056,
     "user": {
      "displayName": "Andreas Gustafsson",
      "photoUrl": "https://lh3.googleusercontent.com/a/default-user=s64",
      "userId": "17122333748857466373"
     },
     "user_tz": -120
    },
    "gather": {
     "logged": 1635945443913
    },
    "id": "-IirE2QR7VxF"
   },
   "outputs": [],
   "source": [
    "from mrcnn_tf2.models.snags import SnagsDataset\n",
    "from mrcnn_tf2.models import model as modellib\n",
    "from mrcnn_tf2.models.custom_config import TrainingSnagsConfig, COCO_WEIGHTS_PATH, DEFAULT_LOGS_DIR, DATASET_DIR\n",
    "import warnings\n",
    "\n",
    "warnings.filterwarnings('ignore')"
   ]
  },
  {
   "cell_type": "markdown",
   "metadata": {
    "id": "4DelZN1-_s_K"
   },
   "source": [
    "### **Init config and model**"
   ]
  },
  {
   "cell_type": "code",
   "execution_count": 2,
   "metadata": {
    "executionInfo": {
     "elapsed": 14531,
     "status": "ok",
     "timestamp": 1634721699036,
     "user": {
      "displayName": "Andreas Gustafsson",
      "photoUrl": "https://lh3.googleusercontent.com/a/default-user=s64",
      "userId": "17122333748857466373"
     },
     "user_tz": -120
    },
    "gather": {
     "logged": 1635945462651
    },
    "id": "dyK7BRNo_zu6"
   },
   "outputs": [
    {
     "name": "stdout",
     "output_type": "stream",
     "text": [
      "\n",
      "Configurations:\n",
      "BACKBONE                       resnet101\n",
      "BACKBONE_STRIDES               [4, 8, 16, 32, 64]\n",
      "BATCH_SIZE                     2\n",
      "BBOX_STD_DEV                   [0.1 0.1 0.2 0.2]\n",
      "COMPUTE_BACKBONE_SHAPE         None\n",
      "DETECTION_MAX_INSTANCES        250\n",
      "DETECTION_MIN_CONFIDENCE       0.75\n",
      "DETECTION_NMS_THRESHOLD        0.5\n",
      "FPN_CLASSIF_FC_LAYERS_SIZE     1024\n",
      "GPU_COUNT                      1\n",
      "GRADIENT_CLIP_NORM             5.0\n",
      "IMAGES_PER_GPU                 2\n",
      "IMAGE_CHANNEL_COUNT            3\n",
      "IMAGE_MAX_DIM                  1024\n",
      "IMAGE_META_SIZE                14\n",
      "IMAGE_MIN_DIM                  800\n",
      "IMAGE_MIN_SCALE                0\n",
      "IMAGE_RESIZE_MODE              square\n",
      "IMAGE_SHAPE                    [1024 1024    3]\n",
      "LEARNING_MOMENTUM              0.9\n",
      "LEARNING_RATE                  0.001\n",
      "LOSS_WEIGHTS                   {'rpn_class_loss': 1.0, 'rpn_bbox_loss': 1.0, 'mrcnn_class_loss': 1.0, 'mrcnn_bbox_loss': 1.0, 'mrcnn_mask_loss': 1.0}\n",
      "MASK_POOL_SIZE                 14\n",
      "MASK_SHAPE                     [28, 28]\n",
      "MAX_GT_INSTANCES               250\n",
      "MEAN_PIXEL                     [123.7 116.8 103.9]\n",
      "MINI_MASK_SHAPE                (56, 56)\n",
      "NAME                           snag\n",
      "NUM_CLASSES                    2\n",
      "POOL_SIZE                      7\n",
      "POST_NMS_ROIS_INFERENCE        2048\n",
      "POST_NMS_ROIS_TRAINING         2048\n",
      "PRE_NMS_LIMIT                  6000\n",
      "ROI_POSITIVE_RATIO             0.33\n",
      "RPN_ANCHOR_RATIOS              [0.5, 1, 2]\n",
      "RPN_ANCHOR_SCALES              (32, 52, 62, 92, 128)\n",
      "RPN_ANCHOR_STRIDE              2\n",
      "RPN_BBOX_STD_DEV               [0.1 0.1 0.2 0.2]\n",
      "RPN_NMS_THRESHOLD              0.7\n",
      "RPN_TRAIN_ANCHORS_PER_IMAGE    320\n",
      "STEPS_PER_EPOCH                5\n",
      "TOP_DOWN_PYRAMID_SIZE          256\n",
      "TRAIN_BN                       False\n",
      "TRAIN_ROIS_PER_IMAGE           512\n",
      "USE_MINI_MASK                  True\n",
      "USE_RPN_ROIS                   True\n",
      "VALIDATION_STEPS               5\n",
      "WEIGHT_DECAY                   0.0001\n",
      "\n",
      "\n"
     ]
    }
   ],
   "source": [
    "config = TrainingSnagsConfig()\n",
    "config.display()\n",
    "\n",
    "model = modellib.MaskRCNN(\n",
    "    mode=\"training\", \n",
    "    config=config,\n",
    "    model_dir=DEFAULT_LOGS_DIR\n",
    "    )\n",
    "\n",
    "model.load_weights(\n",
    "    COCO_WEIGHTS_PATH,\n",
    "    by_name=True,\n",
    "    exclude=[\"mrcnn_class_logits\", \"mrcnn_bbox_fc\", \"mrcnn_bbox\", \"mrcnn_mask\"]\n",
    ")"
   ]
  },
  {
   "cell_type": "markdown",
   "metadata": {
    "id": "6Gk-Ts13-kTv"
   },
   "source": [
    "### **Load the custom datasets**"
   ]
  },
  {
   "cell_type": "code",
   "execution_count": 3,
   "metadata": {
    "gather": {
     "logged": 1635945492021
    },
    "id": "p9IxiPZY786R"
   },
   "outputs": [],
   "source": [
    "# Load training dataset\n",
    "dataset_train = SnagsDataset()\n",
    "dataset_train.load_snags(DATASET_DIR, 'train', augmented=False)\n",
    "dataset_train.prepare()\n",
    "\n",
    "# Load validation dataset\n",
    "dataset_val = SnagsDataset()\n",
    "dataset_val.load_snags(DATASET_DIR, 'val')\n",
    "dataset_val.prepare()"
   ]
  },
  {
   "cell_type": "markdown",
   "metadata": {
    "nteract": {
     "transient": {
      "deleting": false
     }
    }
   },
   "source": [
    "### **Start training**"
   ]
  },
  {
   "cell_type": "code",
   "execution_count": 4,
   "metadata": {
    "collapsed": false,
    "gather": {
     "logged": 1635508007574
    },
    "jupyter": {
     "outputs_hidden": false,
     "source_hidden": false
    },
    "nteract": {
     "transient": {
      "deleting": false
     }
    }
   },
   "outputs": [
    {
     "name": "stdout",
     "output_type": "stream",
     "text": [
      "\n",
      "Starting at epoch 0. LR=0.001\n",
      "\n",
      "Checkpoint Path: C:\\Kod\\Projekt\\Skogsstyrelsen\\dead_pines_mrcnn_tf2\\data/logs\\2021-11-08snag\\mask_rcnn_snag_{epoch:04d}.h5\n",
      "Selecting layers to train\n",
      "fpn_c5p5               (Conv2D)\n",
      "fpn_c4p4               (Conv2D)\n",
      "fpn_c3p3               (Conv2D)\n",
      "fpn_c2p2               (Conv2D)\n",
      "fpn_p5                 (Conv2D)\n",
      "fpn_p2                 (Conv2D)\n",
      "fpn_p3                 (Conv2D)\n",
      "fpn_p4                 (Conv2D)\n",
      "rpn_model              (Functional)\n",
      "mrcnn_mask_conv1       (TimeDistributed)\n",
      "mrcnn_mask_bn1         (TimeDistributed)\n",
      "mrcnn_mask_conv2       (TimeDistributed)\n",
      "mrcnn_mask_bn2         (TimeDistributed)\n",
      "mrcnn_class_conv1      (TimeDistributed)\n",
      "mrcnn_class_bn1        (TimeDistributed)\n",
      "mrcnn_mask_conv3       (TimeDistributed)\n",
      "mrcnn_mask_bn3         (TimeDistributed)\n",
      "mrcnn_class_conv2      (TimeDistributed)\n",
      "mrcnn_class_bn2        (TimeDistributed)\n",
      "mrcnn_mask_conv4       (TimeDistributed)\n",
      "mrcnn_mask_bn4         (TimeDistributed)\n",
      "mrcnn_bbox_fc          (TimeDistributed)\n",
      "mrcnn_mask_deconv      (TimeDistributed)\n",
      "mrcnn_class_logits     (TimeDistributed)\n",
      "mrcnn_mask             (TimeDistributed)\n",
      "5/5 [==============================] - 976s 208s/step - batch: 2.0000 - size: 2.0000 - loss: 4.2522 - rpn_class_loss: 1.2941 - rpn_bbox_loss: 0.5372 - mrcnn_class_loss: 0.5666 - mrcnn_bbox_loss: 0.9400 - mrcnn_mask_loss: 0.9143 - val_loss: 3.0386 - val_rpn_class_loss: 0.5235 - val_rpn_bbox_loss: 0.5327 - val_mrcnn_class_loss: 0.5417 - val_mrcnn_bbox_loss: 0.7519 - val_mrcnn_mask_loss: 0.6889\n"
     ]
    }
   ],
   "source": [
    "# Initiate training\n",
    "history = model.train(\n",
    "    dataset_train, dataset_val,\n",
    "    learning_rate=config.LEARNING_RATE,\n",
    "    epochs=1,\n",
    "    layers='heads'\n",
    ")"
   ]
  },
  {
   "cell_type": "code",
   "execution_count": 5,
   "metadata": {
    "colab": {
     "base_uri": "https://localhost:8080/"
    },
    "executionInfo": {
     "elapsed": 401,
     "status": "ok",
     "timestamp": 1634722323296,
     "user": {
      "displayName": "Andreas Gustafsson",
      "photoUrl": "https://lh3.googleusercontent.com/a/default-user=s64",
      "userId": "17122333748857466373"
     },
     "user_tz": -120
    },
    "gather": {
     "logged": 1635508007837
    },
    "id": "-k2fAhQdAwSG",
    "outputId": "60397d1b-6b1b-4e24-b929-9f632ffc83d3"
   },
   "outputs": [
    {
     "name": "stdout",
     "output_type": "stream",
     "text": [
      "Epoch 1 \t Loss:4.252181196212769 \t Val_loss:3.0386166095733644\n"
     ]
    }
   ],
   "source": [
    "print(\"\\n\".join([f'Epoch {i} \\t Loss:{val[0]} \\t Val_loss:{val[1]}' for i, val in enumerate(zip(history.history['loss'], history.history['val_loss']), 1)]))"
   ]
  }
 ],
 "metadata": {
  "colab": {
   "authorship_tag": "ABX9TyMBkrJYfwop6Pd170S+PeKZ",
   "mount_file_id": "1EHspErN4cQxkWhs0ZKTQiz_TAYmcIG5A",
   "name": "Azure_MaskRCNN.ipynb",
   "provenance": []
  },
  "kernel_info": {
   "name": "python38-azureml"
  },
  "kernelspec": {
   "display_name": "Python 3",
   "language": "python",
   "name": "python3"
  },
  "language_info": {
   "codemirror_mode": {
    "name": "ipython",
    "version": 3
   },
   "file_extension": ".py",
   "mimetype": "text/x-python",
   "name": "python",
   "nbconvert_exporter": "python",
   "pygments_lexer": "ipython3",
   "version": "3.9.0"
  },
  "microsoft": {
   "host": {
    "AzureML": {
     "notebookHasBeenCompleted": true
    }
   }
  },
  "nteract": {
   "version": "nteract-front-end@1.0.0"
  }
 },
 "nbformat": 4,
 "nbformat_minor": 4
}